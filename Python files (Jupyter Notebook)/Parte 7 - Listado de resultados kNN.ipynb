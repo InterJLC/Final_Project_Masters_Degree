{
 "cells": [
  {
   "cell_type": "code",
   "execution_count": null,
   "id": "cc3eb216",
   "metadata": {},
   "outputs": [],
   "source": [
    "#  Parte 5.1; Fichero7 (sin la columna Matching)"
   ]
  },
  {
   "cell_type": "code",
   "execution_count": null,
   "id": "054af9ad",
   "metadata": {},
   "outputs": [],
   "source": [
    "# 3.1.3 Intento 1: resultados del kNN según parámetro 'k'.\n",
    "\n",
    "# Intento 1: k = 2 --> 52.40%. Mínimo.\n",
    "\n",
    "# Intento 2: k = 4 --> 61.53%.\n",
    "\n",
    "# Intento 3: k = 6 --> 61.53%.\n",
    "\n",
    "# Intento 4: k = 8 --> 55.76%.\n",
    "\n",
    "# Intento 5: k = 10 --> 69.23%. Óptimo.\n",
    "\n",
    "# Intento 6: k = 20 --> 67.30%.\n",
    "\n",
    "# Intento 7: k = 40 --> 70.19%. Máximo.\n",
    "\n",
    "# Intento 8: k = 80 --> 64.90%.\n",
    "\n",
    "# Intento 9: k = 150 --> 63.94%.\n",
    "\n",
    "# Intento 10: k = 300 --> 68.75%."
   ]
  },
  {
   "cell_type": "code",
   "execution_count": null,
   "id": "c8655d67",
   "metadata": {},
   "outputs": [],
   "source": [
    "# 3.2.3 Intento 2: resultados del kNN según parámetro 'k'.\n",
    "\n",
    "# Intento 1: k = 2 --> 47.59%. Mínimo.\n",
    "\n",
    "# Intento 2: k = 4 --> 49.51%.\n",
    "\n",
    "# Intento 3: k = 6 --> 51.44%.\n",
    "\n",
    "# Intento 4: k = 8 --> 62.02%.\n",
    "\n",
    "# Intento 5: k = 10 --> 65.86%.\n",
    "\n",
    "# Intento 6: k = 20 --> 70.67%. Óptimo.\n",
    "\n",
    "# Intento 7: k = 40 --> 74.51%. Máximo.\n",
    "\n",
    "# Intento 8: k = 80 --> 66.34%.\n",
    "\n",
    "# Intento 9: k = 150 --> 68.26%.\n",
    "\n",
    "# Intento 10: k = 300 --> 68.26%."
   ]
  },
  {
   "cell_type": "code",
   "execution_count": null,
   "id": "9a7e5c01",
   "metadata": {},
   "outputs": [],
   "source": [
    "# 3.3.3 Intento 3: resultados del kNN según parámetro 'k'.\n",
    "\n",
    "# Intento 1: k = 2 --> 45.67%. Mínimo.\n",
    "\n",
    "# Intento 2: k = 4 --> 49.51%.\n",
    "\n",
    "# Intento 3: k = 6 --> 48.07%.\n",
    "\n",
    "# Intento 4: k = 8 --> 56.73%.\n",
    "\n",
    "# Intento 5: k = 10 --> 68.75%. Óptimo.\n",
    "\n",
    "# Intento 6: k = 20 --> 68.26%.\n",
    "\n",
    "# Intento 7: k = 40 --> 69.23%. Máximo.\n",
    "\n",
    "# Intento 8: k = 80 --> 66.34%.\n",
    "\n",
    "# Intento 9: k = 150 --> 67.78%.\n",
    "\n",
    "# Intento 10: k = 300 --> 68.26%."
   ]
  },
  {
   "cell_type": "code",
   "execution_count": null,
   "id": "1ca6cbd7",
   "metadata": {},
   "outputs": [],
   "source": [
    "# Parte 5.2; Fichero6 (con la columna Matching)"
   ]
  },
  {
   "cell_type": "code",
   "execution_count": null,
   "id": "ff2c3b60",
   "metadata": {},
   "outputs": [],
   "source": [
    "# 3.1.3 Intento 1: resultados del kNN según parámetro 'k'.\n",
    "\n",
    "# Intento 1: k = 2 --> 89.90%.\n",
    "\n",
    "# Intento 2: k = 4 --> 90.86%.\n",
    "\n",
    "# Intento 3: k = 6 --> 94.71%. Máximo.\n",
    "\n",
    "# Intento 4: k = 8 --> 94.71%. Óptimo.\n",
    "\n",
    "# Intento 5: k = 10 --> 93.75%.\n",
    "\n",
    "# Intento 6: k = 20 --> 93.75%.\n",
    "\n",
    "# Intento 7: k = 40 --> 92.30%.\n",
    "\n",
    "# Intento 8: k = 80 --> 88.46%.\n",
    "\n",
    "# Intento 9: k = 150 --> 85.09%.\n",
    "\n",
    "# Intento 10: k = 300 --> 79.32%. Mínimo."
   ]
  },
  {
   "cell_type": "code",
   "execution_count": null,
   "id": "fda4f9fe",
   "metadata": {},
   "outputs": [],
   "source": [
    "# 3.2.3 Intento 2: resultados del kNN según parámetro 'k'.\n",
    "\n",
    "# Intento 1: k = 2 --> 91.82%.\n",
    "\n",
    "# Intento 2: k = 4 --> 93.26%. Máximo.\n",
    "\n",
    "# Intento 3: k = 6 --> 93.26%. Óptimo.\n",
    "\n",
    "# Intento 4: k = 8 --> 91.82%.\n",
    "\n",
    "# Intento 5: k = 10 --> 88.46%.\n",
    "\n",
    "# Intento 6: k = 20 --> 93.26%.\n",
    "\n",
    "# Intento 7: k = 40 --> 92.78%.\n",
    "\n",
    "# Intento 8: k = 80 --> 78.84%.\n",
    "\n",
    "# Intento 9: k = 150 --> 78.84%.\n",
    "\n",
    "# Intento 10: k = 300 --> 71.15%. Mínimo."
   ]
  },
  {
   "cell_type": "code",
   "execution_count": null,
   "id": "ee8ea8b7",
   "metadata": {},
   "outputs": [],
   "source": [
    "# 3.3.3 Intento 3: resultados del kNN según parámetro 'k'.\n",
    "\n",
    "# Intento 1: k = 2 --> 92.30%.\n",
    "\n",
    "# Intento 2: k = 4 --> 92.78%. Máximo.\n",
    "\n",
    "# Intento 3: k = 6 --> 92.78%. Óptimo.\n",
    "\n",
    "# Intento 4: k = 8 --> 88.94%.\n",
    "\n",
    "# Intento 5: k = 10 --> 91.82%.\n",
    "\n",
    "# Intento 6: k = 20 --> 92.30%.\n",
    "\n",
    "# Intento 7: k = 40 --> 92.78%.\n",
    "\n",
    "# Intento 8: k = 80 --> 92.78%.\n",
    "\n",
    "# Intento 9: k = 150 --> 81.25%.\n",
    "\n",
    "# Intento 10: k = 300 --> 72.11%. Mínimo."
   ]
  }
 ],
 "metadata": {
  "kernelspec": {
   "display_name": "Python 3 (ipykernel)",
   "language": "python",
   "name": "python3"
  },
  "language_info": {
   "codemirror_mode": {
    "name": "ipython",
    "version": 3
   },
   "file_extension": ".py",
   "mimetype": "text/x-python",
   "name": "python",
   "nbconvert_exporter": "python",
   "pygments_lexer": "ipython3",
   "version": "3.9.13"
  }
 },
 "nbformat": 4,
 "nbformat_minor": 5
}
